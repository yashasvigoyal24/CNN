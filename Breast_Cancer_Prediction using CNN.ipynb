{
 "cells": [
  {
   "cell_type": "markdown",
   "id": "3137742c",
   "metadata": {},
   "source": [
    "<h1> Importing Necessary Libraries </h1>"
   ]
  },
  {
   "cell_type": "code",
   "execution_count": 1,
   "id": "db42d391",
   "metadata": {},
   "outputs": [],
   "source": [
    "import tensorflow as tf\n",
    "from tensorflow.keras import Sequential\n",
    "from tensorflow.keras.layers import Conv1D, MaxPool1D,Flatten,Dense,Dropout,BatchNormalization \n",
    "#CNN network layers\n",
    "from tensorflow.keras.optimizers import Adam"
   ]
  },
  {
   "cell_type": "code",
   "execution_count": 2,
   "id": "63d23042",
   "metadata": {},
   "outputs": [],
   "source": [
    "import numpy as np\n",
    "import pandas as pd\n",
    "import matplotlib.pyplot as plt\n",
    "import seaborn as sns"
   ]
  },
  {
   "cell_type": "code",
   "execution_count": 3,
   "id": "ad459c3e",
   "metadata": {},
   "outputs": [],
   "source": [
    "from sklearn import datasets,metrics\n",
    "from sklearn.model_selection import train_test_split\n",
    "from sklearn.preprocessing import StandardScaler"
   ]
  },
  {
   "cell_type": "code",
   "execution_count": 4,
   "id": "c360cade",
   "metadata": {},
   "outputs": [],
   "source": [
    "cancerData = datasets.load_breast_cancer()"
   ]
  },
  {
   "cell_type": "code",
   "execution_count": 5,
   "id": "9318c7ae",
   "metadata": {},
   "outputs": [
    {
     "data": {
      "text/html": [
       "<div>\n",
       "<style scoped>\n",
       "    .dataframe tbody tr th:only-of-type {\n",
       "        vertical-align: middle;\n",
       "    }\n",
       "\n",
       "    .dataframe tbody tr th {\n",
       "        vertical-align: top;\n",
       "    }\n",
       "\n",
       "    .dataframe thead th {\n",
       "        text-align: right;\n",
       "    }\n",
       "</style>\n",
       "<table border=\"1\" class=\"dataframe\">\n",
       "  <thead>\n",
       "    <tr style=\"text-align: right;\">\n",
       "      <th></th>\n",
       "      <th>mean radius</th>\n",
       "      <th>mean texture</th>\n",
       "      <th>mean perimeter</th>\n",
       "      <th>mean area</th>\n",
       "      <th>mean smoothness</th>\n",
       "      <th>mean compactness</th>\n",
       "      <th>mean concavity</th>\n",
       "      <th>mean concave points</th>\n",
       "      <th>mean symmetry</th>\n",
       "      <th>mean fractal dimension</th>\n",
       "      <th>...</th>\n",
       "      <th>worst radius</th>\n",
       "      <th>worst texture</th>\n",
       "      <th>worst perimeter</th>\n",
       "      <th>worst area</th>\n",
       "      <th>worst smoothness</th>\n",
       "      <th>worst compactness</th>\n",
       "      <th>worst concavity</th>\n",
       "      <th>worst concave points</th>\n",
       "      <th>worst symmetry</th>\n",
       "      <th>worst fractal dimension</th>\n",
       "    </tr>\n",
       "  </thead>\n",
       "  <tbody>\n",
       "    <tr>\n",
       "      <th>0</th>\n",
       "      <td>17.99</td>\n",
       "      <td>10.38</td>\n",
       "      <td>122.80</td>\n",
       "      <td>1001.0</td>\n",
       "      <td>0.11840</td>\n",
       "      <td>0.27760</td>\n",
       "      <td>0.3001</td>\n",
       "      <td>0.14710</td>\n",
       "      <td>0.2419</td>\n",
       "      <td>0.07871</td>\n",
       "      <td>...</td>\n",
       "      <td>25.38</td>\n",
       "      <td>17.33</td>\n",
       "      <td>184.60</td>\n",
       "      <td>2019.0</td>\n",
       "      <td>0.1622</td>\n",
       "      <td>0.6656</td>\n",
       "      <td>0.7119</td>\n",
       "      <td>0.2654</td>\n",
       "      <td>0.4601</td>\n",
       "      <td>0.11890</td>\n",
       "    </tr>\n",
       "    <tr>\n",
       "      <th>1</th>\n",
       "      <td>20.57</td>\n",
       "      <td>17.77</td>\n",
       "      <td>132.90</td>\n",
       "      <td>1326.0</td>\n",
       "      <td>0.08474</td>\n",
       "      <td>0.07864</td>\n",
       "      <td>0.0869</td>\n",
       "      <td>0.07017</td>\n",
       "      <td>0.1812</td>\n",
       "      <td>0.05667</td>\n",
       "      <td>...</td>\n",
       "      <td>24.99</td>\n",
       "      <td>23.41</td>\n",
       "      <td>158.80</td>\n",
       "      <td>1956.0</td>\n",
       "      <td>0.1238</td>\n",
       "      <td>0.1866</td>\n",
       "      <td>0.2416</td>\n",
       "      <td>0.1860</td>\n",
       "      <td>0.2750</td>\n",
       "      <td>0.08902</td>\n",
       "    </tr>\n",
       "    <tr>\n",
       "      <th>2</th>\n",
       "      <td>19.69</td>\n",
       "      <td>21.25</td>\n",
       "      <td>130.00</td>\n",
       "      <td>1203.0</td>\n",
       "      <td>0.10960</td>\n",
       "      <td>0.15990</td>\n",
       "      <td>0.1974</td>\n",
       "      <td>0.12790</td>\n",
       "      <td>0.2069</td>\n",
       "      <td>0.05999</td>\n",
       "      <td>...</td>\n",
       "      <td>23.57</td>\n",
       "      <td>25.53</td>\n",
       "      <td>152.50</td>\n",
       "      <td>1709.0</td>\n",
       "      <td>0.1444</td>\n",
       "      <td>0.4245</td>\n",
       "      <td>0.4504</td>\n",
       "      <td>0.2430</td>\n",
       "      <td>0.3613</td>\n",
       "      <td>0.08758</td>\n",
       "    </tr>\n",
       "    <tr>\n",
       "      <th>3</th>\n",
       "      <td>11.42</td>\n",
       "      <td>20.38</td>\n",
       "      <td>77.58</td>\n",
       "      <td>386.1</td>\n",
       "      <td>0.14250</td>\n",
       "      <td>0.28390</td>\n",
       "      <td>0.2414</td>\n",
       "      <td>0.10520</td>\n",
       "      <td>0.2597</td>\n",
       "      <td>0.09744</td>\n",
       "      <td>...</td>\n",
       "      <td>14.91</td>\n",
       "      <td>26.50</td>\n",
       "      <td>98.87</td>\n",
       "      <td>567.7</td>\n",
       "      <td>0.2098</td>\n",
       "      <td>0.8663</td>\n",
       "      <td>0.6869</td>\n",
       "      <td>0.2575</td>\n",
       "      <td>0.6638</td>\n",
       "      <td>0.17300</td>\n",
       "    </tr>\n",
       "    <tr>\n",
       "      <th>4</th>\n",
       "      <td>20.29</td>\n",
       "      <td>14.34</td>\n",
       "      <td>135.10</td>\n",
       "      <td>1297.0</td>\n",
       "      <td>0.10030</td>\n",
       "      <td>0.13280</td>\n",
       "      <td>0.1980</td>\n",
       "      <td>0.10430</td>\n",
       "      <td>0.1809</td>\n",
       "      <td>0.05883</td>\n",
       "      <td>...</td>\n",
       "      <td>22.54</td>\n",
       "      <td>16.67</td>\n",
       "      <td>152.20</td>\n",
       "      <td>1575.0</td>\n",
       "      <td>0.1374</td>\n",
       "      <td>0.2050</td>\n",
       "      <td>0.4000</td>\n",
       "      <td>0.1625</td>\n",
       "      <td>0.2364</td>\n",
       "      <td>0.07678</td>\n",
       "    </tr>\n",
       "  </tbody>\n",
       "</table>\n",
       "<p>5 rows × 30 columns</p>\n",
       "</div>"
      ],
      "text/plain": [
       "   mean radius  mean texture  mean perimeter  mean area  mean smoothness  \\\n",
       "0        17.99         10.38          122.80     1001.0          0.11840   \n",
       "1        20.57         17.77          132.90     1326.0          0.08474   \n",
       "2        19.69         21.25          130.00     1203.0          0.10960   \n",
       "3        11.42         20.38           77.58      386.1          0.14250   \n",
       "4        20.29         14.34          135.10     1297.0          0.10030   \n",
       "\n",
       "   mean compactness  mean concavity  mean concave points  mean symmetry  \\\n",
       "0           0.27760          0.3001              0.14710         0.2419   \n",
       "1           0.07864          0.0869              0.07017         0.1812   \n",
       "2           0.15990          0.1974              0.12790         0.2069   \n",
       "3           0.28390          0.2414              0.10520         0.2597   \n",
       "4           0.13280          0.1980              0.10430         0.1809   \n",
       "\n",
       "   mean fractal dimension  ...  worst radius  worst texture  worst perimeter  \\\n",
       "0                 0.07871  ...         25.38          17.33           184.60   \n",
       "1                 0.05667  ...         24.99          23.41           158.80   \n",
       "2                 0.05999  ...         23.57          25.53           152.50   \n",
       "3                 0.09744  ...         14.91          26.50            98.87   \n",
       "4                 0.05883  ...         22.54          16.67           152.20   \n",
       "\n",
       "   worst area  worst smoothness  worst compactness  worst concavity  \\\n",
       "0      2019.0            0.1622             0.6656           0.7119   \n",
       "1      1956.0            0.1238             0.1866           0.2416   \n",
       "2      1709.0            0.1444             0.4245           0.4504   \n",
       "3       567.7            0.2098             0.8663           0.6869   \n",
       "4      1575.0            0.1374             0.2050           0.4000   \n",
       "\n",
       "   worst concave points  worst symmetry  worst fractal dimension  \n",
       "0                0.2654          0.4601                  0.11890  \n",
       "1                0.1860          0.2750                  0.08902  \n",
       "2                0.2430          0.3613                  0.08758  \n",
       "3                0.2575          0.6638                  0.17300  \n",
       "4                0.1625          0.2364                  0.07678  \n",
       "\n",
       "[5 rows x 30 columns]"
      ]
     },
     "execution_count": 5,
     "metadata": {},
     "output_type": "execute_result"
    }
   ],
   "source": [
    "X = pd.DataFrame(data = cancerData.data, columns=cancerData.feature_names )\n",
    "X.head()"
   ]
  },
  {
   "cell_type": "code",
   "execution_count": 6,
   "id": "abcfc77a",
   "metadata": {},
   "outputs": [],
   "source": [
    "y = cancerData.target"
   ]
  },
  {
   "cell_type": "code",
   "execution_count": 7,
   "id": "f5e2a5c1",
   "metadata": {},
   "outputs": [
    {
     "data": {
      "text/plain": [
       "(569, 30)"
      ]
     },
     "execution_count": 7,
     "metadata": {},
     "output_type": "execute_result"
    }
   ],
   "source": [
    "X.shape"
   ]
  },
  {
   "cell_type": "markdown",
   "id": "1833823e",
   "metadata": {},
   "source": [
    "<h1> Loading the Built-in Sklearn Breast Cancer Dataset </h1>"
   ]
  },
  {
   "cell_type": "code",
   "execution_count": 8,
   "id": "5c0e38e0",
   "metadata": {},
   "outputs": [],
   "source": [
    "cancerData = datasets.load_breast_cancer()"
   ]
  },
  {
   "cell_type": "markdown",
   "id": "3008c673",
   "metadata": {},
   "source": [
    "<h1> Splitting into Train and Test datasets </h2>"
   ]
  },
  {
   "cell_type": "code",
   "execution_count": 9,
   "id": "196d3b7c",
   "metadata": {},
   "outputs": [],
   "source": [
    "X_train,X_test,y_train,y_test= train_test_split(X,y,test_size=0.1,stratify=y)"
   ]
  },
  {
   "cell_type": "code",
   "execution_count": 10,
   "id": "bddaeca8",
   "metadata": {},
   "outputs": [
    {
     "data": {
      "text/plain": [
       "(512, 30)"
      ]
     },
     "execution_count": 10,
     "metadata": {},
     "output_type": "execute_result"
    }
   ],
   "source": [
    "X_train.shape"
   ]
  },
  {
   "cell_type": "code",
   "execution_count": 11,
   "id": "d8777376",
   "metadata": {},
   "outputs": [
    {
     "data": {
      "text/plain": [
       "(57,)"
      ]
     },
     "execution_count": 11,
     "metadata": {},
     "output_type": "execute_result"
    }
   ],
   "source": [
    "y_test.shape"
   ]
  },
  {
   "cell_type": "markdown",
   "id": "dee40d4c",
   "metadata": {},
   "source": [
    "<h1> Applying StandardScaler() </h1>"
   ]
  },
  {
   "cell_type": "code",
   "execution_count": 13,
   "id": "f95c9e09",
   "metadata": {},
   "outputs": [],
   "source": [
    "scaler = StandardScaler()"
   ]
  },
  {
   "cell_type": "code",
   "execution_count": 14,
   "id": "8e8cb61a",
   "metadata": {},
   "outputs": [],
   "source": [
    "X_train = scaler.fit_transform(X_train)\n",
    "X_test = scaler.transform(X_test)"
   ]
  },
  {
   "cell_type": "markdown",
   "id": "abab36e4",
   "metadata": {},
   "source": [
    "<h1> Reshaping the dataset to 3-D to pass it through CNN </h1>"
   ]
  },
  {
   "cell_type": "code",
   "execution_count": 15,
   "id": "706fbbcb",
   "metadata": {},
   "outputs": [],
   "source": [
    "X_train = X_train.reshape(512,30,1)\n",
    "X_test = X_test.reshape(57,30,1)"
   ]
  },
  {
   "cell_type": "code",
   "execution_count": 16,
   "id": "9b331c97",
   "metadata": {},
   "outputs": [],
   "source": [
    "model = Sequential()\n",
    "model.add(Conv1D(filters=16,kernel_size=2,activation='relu',input_shape=(30,1)))\n",
    "model.add(BatchNormalization())\n",
    "model.add(Dropout(0.2))\n",
    "\n",
    "model.add(Conv1D(32,2,activation='relu'))\n",
    "model.add(BatchNormalization())\n",
    "model.add(Dropout(0.2))\n",
    "\n",
    "model.add(Flatten())\n",
    "model.add(Dense(32,activation='relu'))\n",
    "model.add(Dropout(0.2))\n",
    "\n",
    "model.add(Dense(1,activation='sigmoid'))"
   ]
  },
  {
   "cell_type": "code",
   "execution_count": 17,
   "id": "dcbed6b2",
   "metadata": {},
   "outputs": [
    {
     "name": "stdout",
     "output_type": "stream",
     "text": [
      "Model: \"sequential\"\n",
      "_________________________________________________________________\n",
      " Layer (type)                Output Shape              Param #   \n",
      "=================================================================\n",
      " conv1d (Conv1D)             (None, 29, 16)            48        \n",
      "                                                                 \n",
      " batch_normalization (BatchN  (None, 29, 16)           64        \n",
      " ormalization)                                                   \n",
      "                                                                 \n",
      " dropout (Dropout)           (None, 29, 16)            0         \n",
      "                                                                 \n",
      " conv1d_1 (Conv1D)           (None, 28, 32)            1056      \n",
      "                                                                 \n",
      " batch_normalization_1 (Batc  (None, 28, 32)           128       \n",
      " hNormalization)                                                 \n",
      "                                                                 \n",
      " dropout_1 (Dropout)         (None, 28, 32)            0         \n",
      "                                                                 \n",
      " flatten (Flatten)           (None, 896)               0         \n",
      "                                                                 \n",
      " dense (Dense)               (None, 32)                28704     \n",
      "                                                                 \n",
      " dropout_2 (Dropout)         (None, 32)                0         \n",
      "                                                                 \n",
      " dense_1 (Dense)             (None, 1)                 33        \n",
      "                                                                 \n",
      "=================================================================\n",
      "Total params: 30,033\n",
      "Trainable params: 29,937\n",
      "Non-trainable params: 96\n",
      "_________________________________________________________________\n"
     ]
    }
   ],
   "source": [
    "model.summary()"
   ]
  },
  {
   "cell_type": "code",
   "execution_count": 18,
   "id": "2633b455",
   "metadata": {},
   "outputs": [],
   "source": [
    "model.compile(optimizer=Adam(learning_rate=0.0001),loss='binary_crossentropy',metrics=['accuracy'])"
   ]
  },
  {
   "cell_type": "code",
   "execution_count": 19,
   "id": "4060003d",
   "metadata": {},
   "outputs": [
    {
     "name": "stdout",
     "output_type": "stream",
     "text": [
      "Epoch 1/35\n",
      "16/16 [==============================] - 7s 33ms/step - loss: 0.5984 - accuracy: 0.6992 - val_loss: 0.6173 - val_accuracy: 0.8947\n",
      "Epoch 2/35\n",
      "16/16 [==============================] - 0s 7ms/step - loss: 0.3934 - accuracy: 0.8359 - val_loss: 0.5703 - val_accuracy: 0.8947\n",
      "Epoch 3/35\n",
      "16/16 [==============================] - 0s 8ms/step - loss: 0.3179 - accuracy: 0.8691 - val_loss: 0.5301 - val_accuracy: 0.8947\n",
      "Epoch 4/35\n",
      "16/16 [==============================] - 0s 9ms/step - loss: 0.2564 - accuracy: 0.8984 - val_loss: 0.4890 - val_accuracy: 0.9123\n",
      "Epoch 5/35\n",
      "16/16 [==============================] - 0s 8ms/step - loss: 0.2553 - accuracy: 0.8945 - val_loss: 0.4474 - val_accuracy: 0.9298\n",
      "Epoch 6/35\n",
      "16/16 [==============================] - 0s 8ms/step - loss: 0.2102 - accuracy: 0.9199 - val_loss: 0.4089 - val_accuracy: 0.9649\n",
      "Epoch 7/35\n",
      "16/16 [==============================] - 0s 9ms/step - loss: 0.1691 - accuracy: 0.9453 - val_loss: 0.3739 - val_accuracy: 0.9649\n",
      "Epoch 8/35\n",
      "16/16 [==============================] - 0s 9ms/step - loss: 0.1760 - accuracy: 0.9336 - val_loss: 0.3395 - val_accuracy: 0.9474\n",
      "Epoch 9/35\n",
      "16/16 [==============================] - 0s 9ms/step - loss: 0.1702 - accuracy: 0.9395 - val_loss: 0.3082 - val_accuracy: 0.9474\n",
      "Epoch 10/35\n",
      "16/16 [==============================] - 0s 9ms/step - loss: 0.1570 - accuracy: 0.9375 - val_loss: 0.2797 - val_accuracy: 0.9474\n",
      "Epoch 11/35\n",
      "16/16 [==============================] - 0s 9ms/step - loss: 0.1580 - accuracy: 0.9375 - val_loss: 0.2551 - val_accuracy: 0.9474\n",
      "Epoch 12/35\n",
      "16/16 [==============================] - 0s 8ms/step - loss: 0.1346 - accuracy: 0.9531 - val_loss: 0.2344 - val_accuracy: 0.9474\n",
      "Epoch 13/35\n",
      "16/16 [==============================] - 0s 8ms/step - loss: 0.1499 - accuracy: 0.9512 - val_loss: 0.2149 - val_accuracy: 0.9474\n",
      "Epoch 14/35\n",
      "16/16 [==============================] - 0s 9ms/step - loss: 0.1303 - accuracy: 0.9590 - val_loss: 0.1977 - val_accuracy: 0.9649\n",
      "Epoch 15/35\n",
      "16/16 [==============================] - 0s 9ms/step - loss: 0.1286 - accuracy: 0.9590 - val_loss: 0.1828 - val_accuracy: 0.9649\n",
      "Epoch 16/35\n",
      "16/16 [==============================] - 0s 8ms/step - loss: 0.1098 - accuracy: 0.9590 - val_loss: 0.1690 - val_accuracy: 0.9649\n",
      "Epoch 17/35\n",
      "16/16 [==============================] - 0s 9ms/step - loss: 0.0949 - accuracy: 0.9668 - val_loss: 0.1552 - val_accuracy: 0.9825\n",
      "Epoch 18/35\n",
      "16/16 [==============================] - 0s 9ms/step - loss: 0.1123 - accuracy: 0.9629 - val_loss: 0.1422 - val_accuracy: 0.9825\n",
      "Epoch 19/35\n",
      "16/16 [==============================] - 0s 8ms/step - loss: 0.1059 - accuracy: 0.9629 - val_loss: 0.1329 - val_accuracy: 0.9825\n",
      "Epoch 20/35\n",
      "16/16 [==============================] - 0s 9ms/step - loss: 0.1209 - accuracy: 0.9512 - val_loss: 0.1246 - val_accuracy: 0.9825\n",
      "Epoch 21/35\n",
      "16/16 [==============================] - 0s 8ms/step - loss: 0.0947 - accuracy: 0.9688 - val_loss: 0.1180 - val_accuracy: 0.9825\n",
      "Epoch 22/35\n",
      "16/16 [==============================] - 1s 89ms/step - loss: 0.1020 - accuracy: 0.9609 - val_loss: 0.1139 - val_accuracy: 0.9825\n",
      "Epoch 23/35\n",
      "16/16 [==============================] - 0s 7ms/step - loss: 0.0870 - accuracy: 0.9668 - val_loss: 0.1098 - val_accuracy: 0.9825\n",
      "Epoch 24/35\n",
      "16/16 [==============================] - 0s 7ms/step - loss: 0.0947 - accuracy: 0.9648 - val_loss: 0.1073 - val_accuracy: 0.9825\n",
      "Epoch 25/35\n",
      "16/16 [==============================] - 0s 6ms/step - loss: 0.0815 - accuracy: 0.9707 - val_loss: 0.1024 - val_accuracy: 0.9825\n",
      "Epoch 26/35\n",
      "16/16 [==============================] - 0s 6ms/step - loss: 0.0981 - accuracy: 0.9648 - val_loss: 0.0986 - val_accuracy: 0.9825\n",
      "Epoch 27/35\n",
      "16/16 [==============================] - 0s 8ms/step - loss: 0.0944 - accuracy: 0.9688 - val_loss: 0.0967 - val_accuracy: 0.9825\n",
      "Epoch 28/35\n",
      "16/16 [==============================] - 0s 9ms/step - loss: 0.0892 - accuracy: 0.9668 - val_loss: 0.0955 - val_accuracy: 0.9825\n",
      "Epoch 29/35\n",
      "16/16 [==============================] - 0s 8ms/step - loss: 0.0874 - accuracy: 0.9746 - val_loss: 0.0959 - val_accuracy: 0.9825\n",
      "Epoch 30/35\n",
      "16/16 [==============================] - 0s 8ms/step - loss: 0.0796 - accuracy: 0.9766 - val_loss: 0.0942 - val_accuracy: 0.9825\n",
      "Epoch 31/35\n",
      "16/16 [==============================] - 0s 6ms/step - loss: 0.0848 - accuracy: 0.9648 - val_loss: 0.0925 - val_accuracy: 0.9649\n",
      "Epoch 32/35\n",
      "16/16 [==============================] - 0s 7ms/step - loss: 0.0832 - accuracy: 0.9727 - val_loss: 0.0907 - val_accuracy: 0.9825\n",
      "Epoch 33/35\n",
      "16/16 [==============================] - 0s 8ms/step - loss: 0.0806 - accuracy: 0.9727 - val_loss: 0.0907 - val_accuracy: 0.9825\n",
      "Epoch 34/35\n",
      "16/16 [==============================] - 0s 10ms/step - loss: 0.0674 - accuracy: 0.9824 - val_loss: 0.0911 - val_accuracy: 0.9649\n",
      "Epoch 35/35\n",
      "16/16 [==============================] - 0s 10ms/step - loss: 0.0809 - accuracy: 0.9688 - val_loss: 0.0908 - val_accuracy: 0.9649\n"
     ]
    }
   ],
   "source": [
    "history = model.fit(X_train,y_train,epochs=35,verbose=1,validation_data=(X_test,y_test))"
   ]
  },
  {
   "cell_type": "markdown",
   "id": "985dc6bd",
   "metadata": {},
   "source": [
    "<h1> Plots of Accuracy and Loss </h1>"
   ]
  },
  {
   "cell_type": "code",
   "execution_count": 20,
   "id": "0f185451",
   "metadata": {},
   "outputs": [],
   "source": [
    "def plotLearningCurve(history,epochs):\n",
    "  epochRange = range(1,epochs+1)\n",
    "  plt.plot(epochRange,history.history['accuracy'])\n",
    "  plt.plot(epochRange,history.history['val_accuracy'])\n",
    "  plt.title('Model Accuracy')\n",
    "  plt.xlabel('Epoch')\n",
    "  plt.ylabel('Accuracy')\n",
    "  plt.legend(['Train','Validation'],loc='upper left')\n",
    "  plt.show()\n",
    "\n",
    "  plt.plot(epochRange,history.history['loss'])\n",
    "  plt.plot(epochRange,history.history['val_loss'])\n",
    "  plt.title('Model Loss')\n",
    "  plt.xlabel('Epoch')\n",
    "  plt.ylabel('Loss')\n",
    "  plt.legend(['Train','Validation'],loc='upper left')\n",
    "  plt.show()"
   ]
  },
  {
   "cell_type": "code",
   "execution_count": 21,
   "id": "1c0cc372",
   "metadata": {},
   "outputs": [
    {
     "data": {
      "image/png": "[encoded data removed]",
      "text/plain": [
       "<Figure size 432x288 with 1 Axes>"
      ]
     },
     "metadata": {
      "needs_background": "light"
     },
     "output_type": "display_data"
    },
    {
     "data": {
      "image/png": "[encoded data removed]",
      "text/plain": [
       "<Figure size 432x288 with 1 Axes>"
      ]
     },
     "metadata": {
      "needs_background": "light"
     },
     "output_type": "display_data"
    }
   ],
   "source": [
    "plotLearningCurve(history,35)"
   ]
  },
  {
   "cell_type": "code",
   "execution_count": null,
   "id": "d4a239c4",
   "metadata": {},
   "outputs": [],
   "source": []
  }
 ],
 "metadata": {
  "kernelspec": {
   "display_name": "Python 3 (ipykernel)",
   "language": "python",
   "name": "python3"
  },
  "language_info": {
   "codemirror_mode": {
    "name": "ipython",
    "version": 3
   },
   "file_extension": ".py",
   "mimetype": "text/x-python",
   "name": "python",
   "nbconvert_exporter": "python",
   "pygments_lexer": "ipython3",
   "version": "3.9.7"
  }
 },
 "nbformat": 4,
 "nbformat_minor": 5
}
